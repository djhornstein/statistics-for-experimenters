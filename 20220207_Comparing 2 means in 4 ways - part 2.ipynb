{
 "cells": [
  {
   "cell_type": "markdown",
   "metadata": {},
   "source": [
    "## Method 2: using external reference distribution + t test\n",
    "\n",
    "Let's recall the case study. We have 10 data points for method A and 10 data points for method B.\n",
    "\n",
    "The means are different: 84.24 for method A vs. 85.54 for method B.\n",
    "\n",
    "The reference distribution has 210 data points with a mean of 84.12\n",
    "\n",
    "Question: are 84.24 and 85.54 statistically different based on the reference distribution?\n",
    "\n",
    "To answer with method 2, we will do the following:\n",
    "- define a new population based on the reference distribution, consisting of the difference between the averages of 2 consecutive sets of 10 samples\n",
    "- this population will be normally distributed because of the central limit theorem\n",
    "- its mean will be assumed to be known and equal to 0\n",
    "- we can reasonably assume that the differences between averages will be distributed approximately independently"
   ]
  },
  {
   "cell_type": "code",
   "execution_count": 1,
   "metadata": {},
   "outputs": [],
   "source": [
    "import pandas as pd\n",
    "import numpy as np\n",
    "import math\n",
    "import scipy.stats as st\n",
    "%config Completer.use_jedi = False\n",
    "pd.set_option('display.max_rows', 500)\n",
    "y_210 = pd.read_excel('yield 210.xlsx')\n",
    "y_AB = pd.read_excel('yield 20.xlsx')"
   ]
  },
  {
   "cell_type": "code",
   "execution_count": 2,
   "metadata": {},
   "outputs": [
    {
     "name": "stdout",
     "output_type": "stream",
     "text": [
      "the list of index is [1, 22, 43, 64, 85, 106, 127, 148, 169, 190]\n"
     ]
    }
   ],
   "source": [
    "# let's generate the list of index.\n",
    "# Goal is to take the difference between 2 consecutive sets of 10 samples, leave gap of 1 sample to diminish correlation and repeat counter\n",
    "sa=[]\n",
    "k=1\n",
    "while (k + 20*(k-1)) < len(y_210):\n",
    "    sa.append(k + 20*(k-1))\n",
    "    k += 1\n",
    "\n",
    "print('the list of index is {}'.format(sa))"
   ]
  },
  {
   "cell_type": "code",
   "execution_count": 3,
   "metadata": {},
   "outputs": [
    {
     "data": {
      "text/html": [
       "<div>\n",
       "<style scoped>\n",
       "    .dataframe tbody tr th:only-of-type {\n",
       "        vertical-align: middle;\n",
       "    }\n",
       "\n",
       "    .dataframe tbody tr th {\n",
       "        vertical-align: top;\n",
       "    }\n",
       "\n",
       "    .dataframe thead th {\n",
       "        text-align: right;\n",
       "    }\n",
       "</style>\n",
       "<table border=\"1\" class=\"dataframe\">\n",
       "  <thead>\n",
       "    <tr style=\"text-align: right;\">\n",
       "      <th></th>\n",
       "      <th>y1</th>\n",
       "      <th>y2</th>\n",
       "      <th>diff</th>\n",
       "    </tr>\n",
       "  </thead>\n",
       "  <tbody>\n",
       "    <tr>\n",
       "      <th>0</th>\n",
       "      <td>83.94</td>\n",
       "      <td>83.51</td>\n",
       "      <td>-0.43</td>\n",
       "    </tr>\n",
       "    <tr>\n",
       "      <th>1</th>\n",
       "      <td>83.99</td>\n",
       "      <td>84.42</td>\n",
       "      <td>0.43</td>\n",
       "    </tr>\n",
       "    <tr>\n",
       "      <th>2</th>\n",
       "      <td>84.19</td>\n",
       "      <td>84.01</td>\n",
       "      <td>-0.18</td>\n",
       "    </tr>\n",
       "    <tr>\n",
       "      <th>3</th>\n",
       "      <td>85.18</td>\n",
       "      <td>84.28</td>\n",
       "      <td>-0.90</td>\n",
       "    </tr>\n",
       "    <tr>\n",
       "      <th>4</th>\n",
       "      <td>83.58</td>\n",
       "      <td>84.38</td>\n",
       "      <td>0.80</td>\n",
       "    </tr>\n",
       "    <tr>\n",
       "      <th>5</th>\n",
       "      <td>84.42</td>\n",
       "      <td>83.99</td>\n",
       "      <td>-0.43</td>\n",
       "    </tr>\n",
       "    <tr>\n",
       "      <th>6</th>\n",
       "      <td>84.72</td>\n",
       "      <td>84.21</td>\n",
       "      <td>-0.51</td>\n",
       "    </tr>\n",
       "    <tr>\n",
       "      <th>7</th>\n",
       "      <td>84.78</td>\n",
       "      <td>83.96</td>\n",
       "      <td>-0.82</td>\n",
       "    </tr>\n",
       "    <tr>\n",
       "      <th>8</th>\n",
       "      <td>84.09</td>\n",
       "      <td>84.58</td>\n",
       "      <td>0.49</td>\n",
       "    </tr>\n",
       "    <tr>\n",
       "      <th>9</th>\n",
       "      <td>83.62</td>\n",
       "      <td>84.26</td>\n",
       "      <td>0.64</td>\n",
       "    </tr>\n",
       "  </tbody>\n",
       "</table>\n",
       "</div>"
      ],
      "text/plain": [
       "      y1     y2  diff\n",
       "0  83.94  83.51 -0.43\n",
       "1  83.99  84.42  0.43\n",
       "2  84.19  84.01 -0.18\n",
       "3  85.18  84.28 -0.90\n",
       "4  83.58  84.38  0.80\n",
       "5  84.42  83.99 -0.43\n",
       "6  84.72  84.21 -0.51\n",
       "7  84.78  83.96 -0.82\n",
       "8  84.09  84.58  0.49\n",
       "9  83.62  84.26  0.64"
      ]
     },
     "execution_count": 3,
     "metadata": {},
     "output_type": "execute_result"
    }
   ],
   "source": [
    "# now we create the list of differences between consecutive samples\n",
    "d_sa1 = lambda x: y_210.iloc[x-1:x+9,0].mean(axis=0)\n",
    "d_sa2 = lambda x: y_210.iloc[x+9:x+19,0].mean(axis=0)\n",
    "y1, y2 =[],[]\n",
    "for i in sa:\n",
    "    y1.append(d_sa1(i))\n",
    "    y2.append(d_sa2(i))\n",
    "y_m2 = pd.DataFrame({'y1': y1,\n",
    "                     'y2': y2,})\n",
    "y_m2['diff']=y_m2['y2']-y_m2['y1']\n",
    "y_m2"
   ]
  },
  {
   "cell_type": "markdown",
   "metadata": {},
   "source": [
    "Let's understand what we just did. We started from a set of 210 samples and created another set of 10 samples of the population of differences between 2 consecutive averages. \n",
    "\n",
    "We know this new population:\n",
    "- is normally distributed thanks to the central limit theorem \n",
    "- has a know mean which is 0\n",
    "- has unknown variance\n",
    "\n",
    "It sounds familiar and we know that we must define the t statistic using the sample variance. But with how many degrees of freedom? 10 since we know the mean of the population."
   ]
  },
  {
   "cell_type": "code",
   "execution_count": 4,
   "metadata": {},
   "outputs": [
    {
     "name": "stdout",
     "output_type": "stream",
     "text": [
      "sample standard deviation is 0.60\n",
      "p value for p(t > 2.16) is 0.028\n"
     ]
    }
   ],
   "source": [
    "# compute the sample variance\n",
    "s_dot = math.sqrt((1/10)*((y_m2['diff']-0)**2).sum(axis=0))\n",
    "print('sample standard deviation is {:.02f}'.format(s_dot))\n",
    "\n",
    "# compute t statistic\n",
    "t = (1.3-0)/s_dot\n",
    "p_value = 1 - st.t.cdf(t,df=10,loc=0,scale=1)\n",
    "print('p value for p(t > {:.02f}) is {:.03f}'.format(t,p_value))"
   ]
  },
  {
   "cell_type": "markdown",
   "metadata": {},
   "source": [
    "Finding a p value of 0.028 is comparable to the 0.047 results found in method 1. It allows us to disqualify the null hypothesis because it is very unlikely this result could have happened if the 2 means were equal. \n",
    "\n",
    "Thus the tests confirms method B is better than method A"
   ]
  },
  {
   "cell_type": "markdown",
   "metadata": {},
   "source": [
    "### Application exercise\n",
    "\n",
    "Just to make sure we get it, it's good to do a quick additional application exercise from the book\n",
    "\n",
    "- Six temperature readings (in F) taken on a patient at 5-min intervals, before and after taking a drug:\n",
    "- note: temperatures are recorder as 10(T-98.0)\n",
    "- Before: 4, 3, 7\n",
    "- After: 10, 6, 8\n",
    "- reference data: 5,5,9,7,3,4,5,8,9,12,14,8,9,11,14,9,10,10,6,5,4,2,3,3,3,8,2,3,4,6,5,3,2,4,6,4\n",
    "\n",
    "Using the data in five sets of six, leaving a gap of one between sets, determine significance level for the null hypothesis $\\eta_{B}$ = $\\eta_{A}$ when alternative is $\\eta_{B}$ > $\\eta_{A}$."
   ]
  },
  {
   "cell_type": "code",
   "execution_count": 65,
   "metadata": {},
   "outputs": [
    {
     "name": "stdout",
     "output_type": "stream",
     "text": [
      "list of index is[1, 8, 15, 22, 29]\n",
      "new sample of differences between 2 consecutive samples of size 3 is        diff\n",
      "0 -1.666667\n",
      "1  0.666667\n",
      "2 -4.000000\n",
      "3  1.666667\n",
      "4 -2.000000\n",
      "s_dot standard deviation with 5 degrees of freedom (since we know the mean) is 2.28\n",
      "t statistic is 1.462 and p value is 0.102\n"
     ]
    }
   ],
   "source": [
    "d_before = [4, 3, 7]\n",
    "d_after = [10, 6, 8]\n",
    "d_ref = [5,5,9,7,3,4,5,8,9,12,14,8,9,11,14,9,10,10,6,5,4,2,3,3,3,8,2,3,4,6,5,3,2,4,6,4]\n",
    "dn_ref = np.array(d_ref)\n",
    "\n",
    "# now we build the new sample consisting of differences between the mean of 2 consective sets of sample data size 3\n",
    "\n",
    "# compute the index values\n",
    "p_ind = []\n",
    "k = 1\n",
    "while k + 6*(k-1) < len(d_ref):\n",
    "    p_ind.append(k + 6*(k-1))\n",
    "    k += 1\n",
    "print('list of index is{}'.format(p_ind))\n",
    "    \n",
    "# creates lambdas to compute the means\n",
    "m1 = lambda x: dn_ref[x-1:x+2].mean()\n",
    "m2 = lambda x: dn_ref[x+2:x+5].mean()\n",
    "d_diff = pd.DataFrame({'diff': [m2(k)-m1(k) for k in p_ind]})\n",
    "print('new sample of differences between 2 consecutive samples of size 3 is {}'.format(new_pop))\n",
    "\n",
    "# now that we have the new sample. We assume it comes from normal population of mean 0 but unknown variance\n",
    "s_dot = math.sqrt((1/5)*((d_diff['diff']-0)**2).sum(axis=0))\n",
    "print('s_dot standard deviation with 5 degrees of freedom (since we know the mean) is {:.02f}'.format(s_dot))\n",
    "\n",
    "# now we are statistically equipped to interpret the temperature difference observed before and after the drug\n",
    "t = (1/3)*(sum(d_after)-sum(d_before))/s_dot\n",
    "p_value = 1 - st.t.cdf(t,df=5,loc=0,scale=1)\n",
    "print('t statistic is {:0.3f} and p value is {:0.03f}'.format(t,p_value))"
   ]
  },
  {
   "cell_type": "markdown",
   "metadata": {},
   "source": [
    "With p value greater than 0.05, we do not have any reason to reject the null hypothesis. \n",
    "\n",
    "Notice how I used more numpy arrays than panda dataframes, as I am trying to use the right tool for the right approach. No need to have a big dataframe when we just have a few integers to manipulate. I create d_diff as a panda dataframe because it displays so much better on the jupyter notebook"
   ]
  }
 ],
 "metadata": {
  "kernelspec": {
   "display_name": "Python 3",
   "language": "python",
   "name": "python3"
  },
  "language_info": {
   "codemirror_mode": {
    "name": "ipython",
    "version": 3
   },
   "file_extension": ".py",
   "mimetype": "text/x-python",
   "name": "python",
   "nbconvert_exporter": "python",
   "pygments_lexer": "ipython3",
   "version": "3.7.6"
  }
 },
 "nbformat": 4,
 "nbformat_minor": 4
}
