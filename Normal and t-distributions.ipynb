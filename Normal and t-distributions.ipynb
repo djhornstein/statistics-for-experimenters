{
 "cells": [
  {
   "cell_type": "markdown",
   "metadata": {},
   "source": [
    "# Some theory: normal and t-distributions"
   ]
  },
  {
   "cell_type": "markdown",
   "metadata": {},
   "source": [
    "## Mean and variance\n",
    "\n",
    "Before deep diving on these two important distributions, we will focus on the 2 most important descriptive measures of a sample: the mean and the spread\n",
    "- Mean: it provides information on the center of gravity of the distribution. It is expressed as $\\eta = \\sum y/N$ where y are the samples and N the number of samples\n",
    "- Spread: serves to understand how far, on average, data points are from the mean. The most useful is variance expressed as $\\sigma = \\sqrt{\\frac{\\sum(y - \\eta)^2}{N}}$"
   ]
  },
  {
   "cell_type": "markdown",
   "metadata": {},
   "source": [
    "Convention\n",
    "- population attributes are written with greek letters\n",
    "- sample attributes are written with roman letters"
   ]
  },
  {
   "cell_type": "markdown",
   "metadata": {},
   "source": [
    "The data available is usually a sample of the population of size n, defined by:\n",
    "- $\\bar{y} = \\sum y/n$\n",
    "- $s = \\sqrt{\\sum(y - \\bar{y})^2 / (n - 1)}$\n",
    "\n",
    "$\\bar{y}$ and s are called sample mean and sample variance.\n",
    "\n",
    "Important to notice that sample variance s has n-1 in denominator. Why? The reason is subtle but important. By definition of $\\bar{y}$, $\\sum(y - \\bar{y}) = 0$. What this means is that knowing any n - 1 of the $y_i - \\bar{y}$ determines the last one since all these variables are linked by one linear relationship $\\sum(y - \\bar{y}) = 0$. Therefore the last $y_i - \\bar{y}$ is not bringing any additional information to the party and does not add value. The information it contains is already contained in the remaining n - 1 elements. Thus we divide by n - 1. The variance $\\sigma^2$ is said to have n - 1 degrees of freedom.\n",
    "\n",
    "In case the population mean is known, the situation changes as we no longer have a linear relationship between the $y_i - \\bar{y}$, the sample variance is defined as $\\dot{s} = \\sqrt{\\sum(y - \\eta)^2 / n)}$, with the divisor being n, not n - 1. $\\dot{s}$ is said to have n degrees of freedom because the n quantities $y - \\eta$ are free to vary."
   ]
  },
  {
   "cell_type": "code",
   "execution_count": 1,
   "metadata": {},
   "outputs": [],
   "source": [
    "# first some admin stuff\n",
    "from IPython.core.interactiveshell import InteractiveShell\n",
    "InteractiveShell.ast_node_interactivity = \"last_expr\"\n",
    "import pandas as pd\n",
    "import numpy as np\n",
    "import scipy.stats as st\n",
    "import math\n",
    "import statistics\n",
    "import matplotlib.pyplot as plt\n",
    "plt.rcParams['figure.figsize'] = [6, 4]\n",
    "%config Completer.use_jedi = False\n",
    "pd.set_option('display.max_rows', 50)"
   ]
  },
  {
   "cell_type": "code",
   "execution_count": 2,
   "metadata": {},
   "outputs": [
    {
     "name": "stdout",
     "output_type": "stream",
     "text": [
      "sample mean is 14.02\n",
      "standard deviation is 1.924\n",
      "there are 4 degrees of freedom\n"
     ]
    }
   ],
   "source": [
    "# example\n",
    "# calculate average and standard deviation for the following data on hog-corn ratios: 16.8, 13.3, 11.8, 15.0, 13.2\n",
    "df = pd.DataFrame({'ratio': [16.8, 13.3, 11.8, 15.0, 13.2]})\n",
    "y_bar = df['ratio'].mean(axis=0)\n",
    "df['ratio_norm'] = df['ratio'] - y_bar\n",
    "df['ratio_norm_sq'] = df['ratio_norm']**2\n",
    "s = math.sqrt((1/4) * df['ratio_norm_sq'].sum(axis=0))\n",
    "df\n",
    "print('sample mean is {:.2f}'.format(y_bar))\n",
    "print('standard deviation is {:.3f}'.format(s))\n",
    "print('there are 4 degrees of freedom')"
   ]
  },
  {
   "cell_type": "markdown",
   "metadata": {},
   "source": [
    "## The normal distribution\n",
    "\n",
    "This distribution whose probability density function is $f(x) = \\frac{1}{\\sigma}e^{-[(y - \\eta)^2/2\\sigma^2]}$ is very important due to the central limit theorem and the robustness of many statistical procedures to deviation from theoretical normality.\n",
    "\n",
    "Let's plot the curve first."
   ]
  },
  {
   "cell_type": "code",
   "execution_count": 3,
   "metadata": {},
   "outputs": [
    {
     "data": {
      "text/plain": [
       "[<matplotlib.lines.Line2D at 0x28db2cbf148>]"
      ]
     },
     "execution_count": 3,
     "metadata": {},
     "output_type": "execute_result"
    },
    {
     "data": {
      "image/png": "[encoded data removed]",
      "text/plain": [
       "<Figure size 432x288 with 1 Axes>"
      ]
     },
     "metadata": {
      "needs_background": "light"
     },
     "output_type": "display_data"
    }
   ],
   "source": [
    "x = np.arange(0,10,0.01)\n",
    "m = 5\n",
    "sig = 1\n",
    "norm = lambda x: (1/sig)*np.exp(-((x - m)**2)/(2*sig**2))\n",
    "y = [norm(i) for i in x]\n",
    "plt.plot(x,y)"
   ]
  },
  {
   "cell_type": "markdown",
   "metadata": {},
   "source": [
    "### Central limit theorem\n",
    "\n",
    "This theorem says that the distribution sample mean converges to a normal distribution as the number of samples increases, regardless of the population distribution"
   ]
  },
  {
   "cell_type": "code",
   "execution_count": 4,
   "metadata": {},
   "outputs": [
    {
     "data": {
      "text/html": [
       "<div>\n",
       "<style scoped>\n",
       "    .dataframe tbody tr th:only-of-type {\n",
       "        vertical-align: middle;\n",
       "    }\n",
       "\n",
       "    .dataframe tbody tr th {\n",
       "        vertical-align: top;\n",
       "    }\n",
       "\n",
       "    .dataframe thead th {\n",
       "        text-align: right;\n",
       "    }\n",
       "</style>\n",
       "<table border=\"1\" class=\"dataframe\">\n",
       "  <thead>\n",
       "    <tr style=\"text-align: right;\">\n",
       "      <th></th>\n",
       "      <th>1 die</th>\n",
       "      <th>2 dice</th>\n",
       "      <th>3 dice</th>\n",
       "      <th>4 dice</th>\n",
       "      <th>5 dice</th>\n",
       "      <th>6 dice</th>\n",
       "    </tr>\n",
       "  </thead>\n",
       "  <tbody>\n",
       "    <tr>\n",
       "      <th>0</th>\n",
       "      <td>2</td>\n",
       "      <td>2.5</td>\n",
       "      <td>2.666667</td>\n",
       "      <td>2.75</td>\n",
       "      <td>3.2</td>\n",
       "      <td>2.000000</td>\n",
       "    </tr>\n",
       "    <tr>\n",
       "      <th>1</th>\n",
       "      <td>6</td>\n",
       "      <td>4.0</td>\n",
       "      <td>2.333333</td>\n",
       "      <td>4.00</td>\n",
       "      <td>3.8</td>\n",
       "      <td>4.500000</td>\n",
       "    </tr>\n",
       "    <tr>\n",
       "      <th>2</th>\n",
       "      <td>2</td>\n",
       "      <td>4.5</td>\n",
       "      <td>5.666667</td>\n",
       "      <td>3.00</td>\n",
       "      <td>4.2</td>\n",
       "      <td>3.666667</td>\n",
       "    </tr>\n",
       "    <tr>\n",
       "      <th>3</th>\n",
       "      <td>6</td>\n",
       "      <td>5.0</td>\n",
       "      <td>3.666667</td>\n",
       "      <td>3.75</td>\n",
       "      <td>3.2</td>\n",
       "      <td>4.333333</td>\n",
       "    </tr>\n",
       "    <tr>\n",
       "      <th>4</th>\n",
       "      <td>5</td>\n",
       "      <td>5.0</td>\n",
       "      <td>4.333333</td>\n",
       "      <td>4.00</td>\n",
       "      <td>3.6</td>\n",
       "      <td>3.166667</td>\n",
       "    </tr>\n",
       "    <tr>\n",
       "      <th>...</th>\n",
       "      <td>...</td>\n",
       "      <td>...</td>\n",
       "      <td>...</td>\n",
       "      <td>...</td>\n",
       "      <td>...</td>\n",
       "      <td>...</td>\n",
       "    </tr>\n",
       "    <tr>\n",
       "      <th>995</th>\n",
       "      <td>1</td>\n",
       "      <td>3.0</td>\n",
       "      <td>3.333333</td>\n",
       "      <td>3.00</td>\n",
       "      <td>4.2</td>\n",
       "      <td>4.000000</td>\n",
       "    </tr>\n",
       "    <tr>\n",
       "      <th>996</th>\n",
       "      <td>4</td>\n",
       "      <td>5.0</td>\n",
       "      <td>3.666667</td>\n",
       "      <td>3.75</td>\n",
       "      <td>3.2</td>\n",
       "      <td>3.000000</td>\n",
       "    </tr>\n",
       "    <tr>\n",
       "      <th>997</th>\n",
       "      <td>2</td>\n",
       "      <td>3.0</td>\n",
       "      <td>4.333333</td>\n",
       "      <td>2.75</td>\n",
       "      <td>4.0</td>\n",
       "      <td>3.666667</td>\n",
       "    </tr>\n",
       "    <tr>\n",
       "      <th>998</th>\n",
       "      <td>5</td>\n",
       "      <td>4.0</td>\n",
       "      <td>4.000000</td>\n",
       "      <td>4.25</td>\n",
       "      <td>4.6</td>\n",
       "      <td>3.000000</td>\n",
       "    </tr>\n",
       "    <tr>\n",
       "      <th>999</th>\n",
       "      <td>6</td>\n",
       "      <td>4.5</td>\n",
       "      <td>3.333333</td>\n",
       "      <td>3.75</td>\n",
       "      <td>3.6</td>\n",
       "      <td>2.833333</td>\n",
       "    </tr>\n",
       "  </tbody>\n",
       "</table>\n",
       "<p>1000 rows × 6 columns</p>\n",
       "</div>"
      ],
      "text/plain": [
       "     1 die  2 dice    3 dice  4 dice  5 dice    6 dice\n",
       "0        2     2.5  2.666667    2.75     3.2  2.000000\n",
       "1        6     4.0  2.333333    4.00     3.8  4.500000\n",
       "2        2     4.5  5.666667    3.00     4.2  3.666667\n",
       "3        6     5.0  3.666667    3.75     3.2  4.333333\n",
       "4        5     5.0  4.333333    4.00     3.6  3.166667\n",
       "..     ...     ...       ...     ...     ...       ...\n",
       "995      1     3.0  3.333333    3.00     4.2  4.000000\n",
       "996      4     5.0  3.666667    3.75     3.2  3.000000\n",
       "997      2     3.0  4.333333    2.75     4.0  3.666667\n",
       "998      5     4.0  4.000000    4.25     4.6  3.000000\n",
       "999      6     4.5  3.333333    3.75     3.6  2.833333\n",
       "\n",
       "[1000 rows x 6 columns]"
      ]
     },
     "execution_count": 4,
     "metadata": {},
     "output_type": "execute_result"
    }
   ],
   "source": [
    "# creates a sample\n",
    "population_size = 1000\n",
    "a_1_die = pd.Series(np.random.randint(1,7,size=population_size))\n",
    "a_2_dice = [a_1_die.sample(2).mean() for i in range(population_size)]\n",
    "a_3_dice = [a_1_die.sample(3).mean() for i in range(population_size)]\n",
    "a_4_dice = [a_1_die.sample(4).mean() for i in range(population_size)]\n",
    "a_5_dice = [a_1_die.sample(5).mean() for i in range(population_size)]\n",
    "a_6_dice = [a_1_die.sample(6).mean() for i in range(population_size)]\n",
    "df4 = pd.DataFrame({'1 die':a_1_die,'2 dice':a_2_dice,'3 dice':a_3_dice,'4 dice':a_4_dice,'5 dice':a_5_dice,'6 dice':a_6_dice})\n",
    "df4"
   ]
  },
  {
   "cell_type": "code",
   "execution_count": 5,
   "metadata": {},
   "outputs": [
    {
     "data": {
      "image/png": "[encoded data removed]",
      "text/plain": [
       "<Figure size 1440x720 with 6 Axes>"
      ]
     },
     "metadata": {
      "needs_background": "light"
     },
     "output_type": "display_data"
    }
   ],
   "source": [
    "fig, axes = plt.subplots(3,2,figsize=(20,10))\n",
    "count = 0\n",
    "for i in range(3):\n",
    "    for j in range (2):        \n",
    "        axes[i,j].hist(df4.iloc[:,count], bins = 50)\n",
    "        axes[i,j].set_title(df4.columns[count])\n",
    "        count += 1"
   ]
  },
  {
   "cell_type": "markdown",
   "metadata": {},
   "source": [
    "We can see that the distribution evolves from uniform to normal as we increase the sample size, i.e. take the average of more dice\n",
    "\n",
    "The consequence is that real error distributions tend to be normally distributed as they can usually be modeled as a linear combination of many small component error (measurement error, reading error, calculation, sampling, etc.)"
   ]
  },
  {
   "cell_type": "markdown",
   "metadata": {},
   "source": [
    "### Computing z score and probability values\n",
    "\n",
    "Since the normal distribution and curve is so prevalent, it is very common to normalize it to make it comparable to an absolute reference: a normal curve of mean 0 and variance 1. It is done by computing the z-score of a value, which is the number of standard deviation that a point is away from the mean. \n",
    "\n",
    "Z score is defined as $z = \\frac{y - \\eta}{\\sigma}$"
   ]
  },
  {
   "cell_type": "code",
   "execution_count": 6,
   "metadata": {},
   "outputs": [
    {
     "name": "stdout",
     "output_type": "stream",
     "text": [
      "z score of 5 is -0.50\n",
      "z score of 7 is 0.50\n",
      "probability that x < 5 is 0.31\n",
      "probability that x < 7 is 0.69\n",
      "probability that 5 < x < 7 is 0.38\n",
      "\n"
     ]
    }
   ],
   "source": [
    "# for random variable having a normal distribution with mean 𝜂 = 6 and standard deviation 𝜎 = 2,\n",
    "# what is the probability that an individual observation selected at random will be between 5 and 7? \n",
    "\n",
    "z_5 = (5-6)/2\n",
    "z_7 = (7-6)/2\n",
    "p_lt5 = st.norm.cdf(5,loc=6,scale=2) \n",
    "p_lt7 = st.norm.cdf(7,loc=6,scale=2) \n",
    "dist = st.norm.cdf(7,loc=6,scale=2) - st.norm.cdf(5,loc=6,scale=2)\n",
    "print('z score of 5 is {:.02f}\\nz score of 7 is {:.02f}\\nprobability that x < 5 is {:.02f}\\nprobability that x < 7 is {:.02f}\\nprobability that 5 < x < 7 is {:.02f}\\n'.format(z_5,z_7,p_lt5,p_lt7,dist))"
   ]
  },
  {
   "cell_type": "markdown",
   "metadata": {},
   "source": [
    "## Student's t distribution\n",
    "\n",
    "When we do not know the population standard's deviation $\\sigma$, we cannot calculate the z value and make a statement about the random occurence of this value using the normal distribution of z. \n",
    "\n",
    "Instead we compute a new metric $t = \\frac{y - \\eta}{s}$ where s is the standard deviation of the sample (different from $\\sigma$ which is standard deviation of the population!!).\n",
    "\n",
    "It can be shown that t follows a known distribution known as t distribution. It was deduced by Gosset who went by pseudonym of Student.\n",
    "\n",
    "The t distribution resembles the normal distribution but with fatter tails. The intuition isthe following:\n",
    "- as the number of samples increases, the uncertainty around s decreases as it gets closer to $\\sigma$ and the curve converges to normal distribution\n",
    "- as the number of samples decreases, the uncertainty around s increases (example: sample could be made of 3 adjacent numbers giving false impression of small variance whereas the population has much larger variance, this is harder to do when we have 30 samples as the sample will very likely resemble more the population). There is greater probability of extreme variation of s (small) and t (large) and thus the fatter tails observed\n",
    "\n",
    "The degree of uncertainty is measured by the number of degrees of freedom $\\nu$ = number of samples - 1"
   ]
  },
  {
   "cell_type": "code",
   "execution_count": 16,
   "metadata": {},
   "outputs": [
    {
     "data": {
      "text/plain": [
       "<matplotlib.legend.Legend at 0x28db509af48>"
      ]
     },
     "execution_count": 16,
     "metadata": {},
     "output_type": "execute_result"
    },
    {
     "data": {
      "image/png": "[encoded data removed]",
      "text/plain": [
       "<Figure size 432x288 with 1 Axes>"
      ]
     },
     "metadata": {
      "needs_background": "light"
     },
     "output_type": "display_data"
    }
   ],
   "source": [
    "x = np.arange(-10,10,0.01)\n",
    "nu = [1,3,5,9,15]\n",
    "fig2, ax = plt.subplots(1)\n",
    "for i in nu:\n",
    "    y = st.t.pdf(x,df=i)\n",
    "    ax.plot(y,label='df:{}'.format(i))\n",
    "fig2.legend()"
   ]
  },
  {
   "cell_type": "markdown",
   "metadata": {},
   "source": [
    "As you can see, the higher the degree of freedom, the more the curve looks like a normal distribution. \n",
    "The lower the degree of freedom, the fatter the tails are, reflecting the higher uncertainty about s and more extreme values of t statistics"
   ]
  },
  {
   "cell_type": "code",
   "execution_count": 27,
   "metadata": {},
   "outputs": [],
   "source": [
    "# application exercise\n",
    "# performance y, in miles per gallon, of a sample of cars all of the same make and age: 27.8, 24.3, 22.8, 26.0, 24.2\n",
    "# 1 - calculate variance knowing 𝜂 = 25\n",
    "# 2 - calculate variance assuming 𝜂 is unknown\n",
    "# 3 - measure performance for single car of different manufacturer but similar in size to others is 28.2. \n",
    "# Use t statistic to test the null hypothesis that this difference of manufacturer is without effect"
   ]
  },
  {
   "cell_type": "code",
   "execution_count": 56,
   "metadata": {},
   "outputs": [
    {
     "name": "stdout",
     "output_type": "stream",
     "text": [
      "s_ds:2.96 with 5 degrees of freedom\n",
      "s_s:3.70 with 4 degrees of freedom\n",
      "t_d:1.86 with 5 degrees of freedom\n",
      "t:1.66 with 4 degrees of freedom\n",
      "probability to exceed t_d is 0.06\n",
      "probability to exceed t is 0.09\n"
     ]
    }
   ],
   "source": [
    "df = pd.DataFrame([27.8, 24.3, 22.8, 26.0, 24.2], columns=['raw'])\n",
    "df['mean sq'] = (df['raw'] - 25)**2\n",
    "s_ds = (1/5)*df['mean sq'].sum()\n",
    "df['sample mean sq'] = (df['raw'] - df['raw'].mean(axis=0))**2\n",
    "s_s = (1/4)*df['sample mean sq'].sum()\n",
    "print('s_ds:{:.02f} with 5 degrees of freedom\\ns_s:{:.02f} with 4 degrees of freedom'.format(s_ds,s_s))\n",
    "t_d = (28.2-25)/math.sqrt(s_ds)\n",
    "t = (28.2-25)/math.sqrt(s_s)\n",
    "st.t.cdf((28.2-25)/s_ds,df=5,loc=0,scale=1)\n",
    "print('t_d:{:.02f} with 5 degrees of freedom\\nt:{:.02f} with 4 degrees of freedom'.format(t_d,t))\n",
    "print('probability to exceed t_d is {:.02f}'.format(1 - st.t.cdf(t_d,df=5,loc=0, scale=1)))\n",
    "print('probability to exceed t is {:.02f}'.format(1 - st.t.cdf(t,df=4,loc=0, scale=1)))"
   ]
  },
  {
   "cell_type": "markdown",
   "metadata": {},
   "source": [
    "We do not see reason to reject the null hypothesis"
   ]
  }
 ],
 "metadata": {
  "kernelspec": {
   "display_name": "Python 3",
   "language": "python",
   "name": "python3"
  },
  "language_info": {
   "codemirror_mode": {
    "name": "ipython",
    "version": 3
   },
   "file_extension": ".py",
   "mimetype": "text/x-python",
   "name": "python",
   "nbconvert_exporter": "python",
   "pygments_lexer": "ipython3",
   "version": "3.7.6"
  }
 },
 "nbformat": 4,
 "nbformat_minor": 4
}
