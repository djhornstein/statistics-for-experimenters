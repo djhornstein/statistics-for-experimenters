{
 "cells": [
  {
   "cell_type": "markdown",
   "metadata": {},
   "source": [
    "# Randomization (part 3) - so what have we learned?\n",
    "\n",
    "There are two types of variations in experiments: known and unknown.\n",
    "- **Known variations**: these are the variations that the experimenter is aware of and can control\n",
    "  - Man vs. woman when testing drugs\n",
    "  - Types of soil when testing fertilizers\n",
    "  - Quality of raw material, operator skill level, temperature and humidity when testing yield on production floor\n",
    "\n",
    "- **Unknown variations**: these are the variations that the experimenter is unaware of and cannot control\n",
    "  - underlying medical conditions of test patient when testing drugs\n",
    "  - presence of decaying matter or rocks in the ground, or sun exposure when testing fertilizers\n",
    "  - inefficient IT system, hidden handling damages, ineffective storage when testing yield on production floor\n",
    "  \n",
    "For each type of variation, there is an approach:\n",
    "- **known variations: blocking**. A block is a portion of the design material that is more homegenuous than the rest of the experiment. Using blocks allow us to remove the impact of known variations from the test, increasing its precision. For example: instead of testing a drug on a sample of men and women, taking the risk of having the results swayed by the drug being more active on one gender, one would conduct two experiments: testing the drugs on a  sample of men, and testing the drugs on a  sample of women\n",
    "- **unknown variations: randomization**. This technique ensures that the sample is as unbiased as possible by unknown variations. Intuitively, it makes sense. When testing fertilizers, instead of taking the risk of selecting a patch more conductive to plant growth due to unknown factors like the ones mentioned above (decaying matter underneath or good sun exposure), we randomly select the plots to ensure that any positive or negative influences are randomly distributed. Since we have shown that we cannot trust the random assumption hypothesis, the randomization technique allows the experimenter to force randomization, enabling us to apply the t statistic to test statistical significance\n",
    "\n",
    "| source of variation | technique to address when designing experiment |\n",
    "| --- | --- |\n",
    "| known | blocking |\n",
    "| unknown | randomization |\n"
   ]
  }
 ],
 "metadata": {
  "kernelspec": {
   "display_name": "Python 3",
   "language": "python",
   "name": "python3"
  },
  "language_info": {
   "codemirror_mode": {
    "name": "ipython",
    "version": 3
   },
   "file_extension": ".py",
   "mimetype": "text/x-python",
   "name": "python",
   "nbconvert_exporter": "python",
   "pygments_lexer": "ipython3",
   "version": "3.7.6"
  }
 },
 "nbformat": 4,
 "nbformat_minor": 4
}
