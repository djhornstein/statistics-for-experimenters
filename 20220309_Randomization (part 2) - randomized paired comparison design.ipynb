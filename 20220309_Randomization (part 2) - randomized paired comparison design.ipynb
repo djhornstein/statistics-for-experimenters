{
 "cells": [
  {
   "cell_type": "markdown",
   "metadata": {},
   "source": [
    "# Randomization (part 2): randomized paired comparison design\n",
    "\n",
    "Let us apply the randomization concept to comparisons done within matched pairs. This greatly increases the precision of the test.\n",
    "\n",
    "Experiment on boys' shoes:\n",
    "- want to measure the amount of wear and boys' shoes\n",
    "- material A is the original\n",
    "- material B is the new one, cheaper but suspected to not be as durable and incur more tear\n",
    "- run experiments on 10 boys, each wearing a shoe with sole A and sole B, the right or left foot chosen randomly"
   ]
  },
  {
   "cell_type": "code",
   "execution_count": 15,
   "metadata": {},
   "outputs": [],
   "source": [
    "import pandas as pd\n",
    "import numpy as np\n",
    "import math\n",
    "import scipy.stats as st\n",
    "import matplotlib.pyplot as plt\n",
    "%config Completer.use_jedi = False\n",
    "pd.set_option('display.max_rows', 500)\n",
    "y_210 = pd.read_excel('yield 210.xlsx')\n",
    "y_AB = pd.read_excel('yield 20.xlsx')"
   ]
  },
  {
   "cell_type": "code",
   "execution_count": 16,
   "metadata": {},
   "outputs": [
    {
     "name": "stdout",
     "output_type": "stream",
     "text": [
      "average of difference d of wear between shoe B and A is 0.41\n"
     ]
    },
    {
     "data": {
      "text/html": [
       "<div>\n",
       "<style scoped>\n",
       "    .dataframe tbody tr th:only-of-type {\n",
       "        vertical-align: middle;\n",
       "    }\n",
       "\n",
       "    .dataframe tbody tr th {\n",
       "        vertical-align: top;\n",
       "    }\n",
       "\n",
       "    .dataframe thead th {\n",
       "        text-align: right;\n",
       "    }\n",
       "</style>\n",
       "<table border=\"1\" class=\"dataframe\">\n",
       "  <thead>\n",
       "    <tr style=\"text-align: right;\">\n",
       "      <th></th>\n",
       "      <th>A wear</th>\n",
       "      <th>A shoe</th>\n",
       "      <th>B wear</th>\n",
       "      <th>B shoe</th>\n",
       "      <th>d</th>\n",
       "    </tr>\n",
       "    <tr>\n",
       "      <th>boy</th>\n",
       "      <th></th>\n",
       "      <th></th>\n",
       "      <th></th>\n",
       "      <th></th>\n",
       "      <th></th>\n",
       "    </tr>\n",
       "  </thead>\n",
       "  <tbody>\n",
       "    <tr>\n",
       "      <th>1</th>\n",
       "      <td>13.2</td>\n",
       "      <td>L</td>\n",
       "      <td>14.0</td>\n",
       "      <td>R</td>\n",
       "      <td>0.8</td>\n",
       "    </tr>\n",
       "    <tr>\n",
       "      <th>2</th>\n",
       "      <td>8.2</td>\n",
       "      <td>L</td>\n",
       "      <td>8.8</td>\n",
       "      <td>R</td>\n",
       "      <td>0.6</td>\n",
       "    </tr>\n",
       "    <tr>\n",
       "      <th>3</th>\n",
       "      <td>10.9</td>\n",
       "      <td>R</td>\n",
       "      <td>11.2</td>\n",
       "      <td>L</td>\n",
       "      <td>0.3</td>\n",
       "    </tr>\n",
       "    <tr>\n",
       "      <th>4</th>\n",
       "      <td>14.3</td>\n",
       "      <td>L</td>\n",
       "      <td>14.2</td>\n",
       "      <td>R</td>\n",
       "      <td>-0.1</td>\n",
       "    </tr>\n",
       "    <tr>\n",
       "      <th>5</th>\n",
       "      <td>10.7</td>\n",
       "      <td>R</td>\n",
       "      <td>11.8</td>\n",
       "      <td>L</td>\n",
       "      <td>1.1</td>\n",
       "    </tr>\n",
       "    <tr>\n",
       "      <th>6</th>\n",
       "      <td>6.6</td>\n",
       "      <td>L</td>\n",
       "      <td>6.4</td>\n",
       "      <td>R</td>\n",
       "      <td>-0.2</td>\n",
       "    </tr>\n",
       "    <tr>\n",
       "      <th>7</th>\n",
       "      <td>9.5</td>\n",
       "      <td>L</td>\n",
       "      <td>9.8</td>\n",
       "      <td>R</td>\n",
       "      <td>0.3</td>\n",
       "    </tr>\n",
       "    <tr>\n",
       "      <th>8</th>\n",
       "      <td>10.8</td>\n",
       "      <td>L</td>\n",
       "      <td>11.3</td>\n",
       "      <td>R</td>\n",
       "      <td>0.5</td>\n",
       "    </tr>\n",
       "    <tr>\n",
       "      <th>9</th>\n",
       "      <td>8.8</td>\n",
       "      <td>R</td>\n",
       "      <td>9.3</td>\n",
       "      <td>L</td>\n",
       "      <td>0.5</td>\n",
       "    </tr>\n",
       "    <tr>\n",
       "      <th>10</th>\n",
       "      <td>13.3</td>\n",
       "      <td>L</td>\n",
       "      <td>13.6</td>\n",
       "      <td>R</td>\n",
       "      <td>0.3</td>\n",
       "    </tr>\n",
       "  </tbody>\n",
       "</table>\n",
       "</div>"
      ],
      "text/plain": [
       "     A wear A shoe  B wear B shoe    d\n",
       "boy                                   \n",
       "1      13.2      L    14.0      R  0.8\n",
       "2       8.2      L     8.8      R  0.6\n",
       "3      10.9      R    11.2      L  0.3\n",
       "4      14.3      L    14.2      R -0.1\n",
       "5      10.7      R    11.8      L  1.1\n",
       "6       6.6      L     6.4      R -0.2\n",
       "7       9.5      L     9.8      R  0.3\n",
       "8      10.8      L    11.3      R  0.5\n",
       "9       8.8      R     9.3      L  0.5\n",
       "10     13.3      L    13.6      R  0.3"
      ]
     },
     "execution_count": 16,
     "metadata": {},
     "output_type": "execute_result"
    }
   ],
   "source": [
    "df = pd.DataFrame({'A wear':[13.2,8.2,10.9,14.3,10.7,6.6,9.5,10.8,8.8,13.3],\n",
    "                   'A shoe':list('LLRLRLLLRL'),\n",
    "                   'B wear':[14.0,8.8,11.2,14.2,11.8,6.4,9.8,11.3,9.3,13.6],\n",
    "                   'B shoe':list('RRLRLRRRLR')},\n",
    "                 index=np.arange(1,11))\n",
    "df.index.name = 'boy'\n",
    "df['d'] = df['B wear'] - df['A wear']\n",
    "print('average of difference d of wear between shoe B and A is {:.02f}'.format(df['d'].mean(axis=0)))\n",
    "df"
   ]
  },
  {
   "cell_type": "code",
   "execution_count": 17,
   "metadata": {},
   "outputs": [
    {
     "data": {
      "image/png": "[encoded data removed]",
      "text/plain": [
       "<Figure size 432x288 with 2 Axes>"
      ]
     },
     "metadata": {
      "needs_background": "light"
     },
     "output_type": "display_data"
    }
   ],
   "source": [
    "# first quick histogram as if we did not know the data was collected in matched pairs\n",
    "fig, ax = plt.subplots(2,1)\n",
    "ax[0].hist(df['A wear'])\n",
    "ax[1].hist(df['B wear'])\n",
    "ax[0].set_title('A wear')\n",
    "ax[1].set_title('B wear')\n",
    "plt.subplots_adjust(hspace=0.5)"
   ]
  },
  {
   "cell_type": "markdown",
   "metadata": {},
   "source": [
    "One can see that nothing stands out: the wear of material A seems to have same distribution as the wear of material B"
   ]
  },
  {
   "cell_type": "code",
   "execution_count": 18,
   "metadata": {},
   "outputs": [
    {
     "data": {
      "text/plain": [
       "[<matplotlib.lines.Line2D at 0x1d42eda8e08>]"
      ]
     },
     "execution_count": 18,
     "metadata": {},
     "output_type": "execute_result"
    },
    {
     "data": {
      "image/png": "[encoded data removed]",
      "text/plain": [
       "<Figure size 432x288 with 1 Axes>"
      ]
     },
     "metadata": {
      "needs_background": "light"
     },
     "output_type": "display_data"
    }
   ],
   "source": [
    "# now let's look at the difference d between wear of B and wear of A on the same child\n",
    "plt.plot(df.index,df['d'],'bo')\n",
    "plt.plot(df.index,[0]*10,'r-')"
   ]
  },
  {
   "cell_type": "markdown",
   "metadata": {},
   "source": [
    "One can see a very different picture now: 8 data points above 0 line suggest that the wear on B is higher than wear on A.\n",
    "    \n",
    "Why are the differences telling more than the individual data points? Because they remove the effect of each child. Children use their shores differently: some may be more active, some others less. Some may jump or play a sport that uses the shoes more than others. If we look at the data, regardless of the boys, the individual effect of each child's usage of the shoe is embedded in the data. If we look at the differences only, we remove the individual effect of each child's usage from the data. This is an important and profound concept."
   ]
  },
  {
   "cell_type": "markdown",
   "metadata": {},
   "source": [
    "## Randomization\n",
    "\n",
    "Now let's run the randomization approach. Let us assume that the level of wear is the same for material A and B. In other words, boy 1's wear for left shoe will be 13.2, regardless of whether it is made with material A or B and his right shoe's wear will be 14.0, regardless of whether it is made with material A or B. There are $2^{10}$ (1,024) combinations, merely affecting the sign of the difference of wear for each boy. We will compare 0.41 to the distributions of averages for the 1,024 combinations to determine p value and statistical significance of the null hypothesis. If p value is less than 5%, this means 0.41 value is highly unlikely and we will rule out the null hypothesis."
   ]
  },
  {
   "cell_type": "code",
   "execution_count": 19,
   "metadata": {},
   "outputs": [
    {
     "name": "stdout",
     "output_type": "stream",
     "text": [
      "we derived all the possible 1024 outcomes\n",
      "there are 7 combinations with mean above or equal to 0.41\n",
      "[[1, 1, 1, -1, 1, -1, 1, 1, 1, -1], [1, 1, 1, -1, 1, -1, -1, 1, 1, 1], [1, 1, -1, -1, 1, -1, 1, 1, 1, 1], [1, 1, 1, -1, 1, -1, 1, 1, 1, 1], [1, 1, 1, 1, 1, -1, 1, 1, 1, 1], [1, 1, 1, -1, 1, 1, 1, 1, 1, 1], [1, 1, 1, 1, 1, 1, 1, 1, 1, 1]]\n"
     ]
    },
    {
     "data": {
      "text/plain": [
       "<matplotlib.lines.Line2D at 0x1d42dfffdc8>"
      ]
     },
     "execution_count": 19,
     "metadata": {},
     "output_type": "execute_result"
    },
    {
     "data": {
      "image/png": "[encoded data removed]",
      "text/plain": [
       "<Figure size 432x288 with 1 Axes>"
      ]
     },
     "metadata": {
      "needs_background": "light"
     },
     "output_type": "display_data"
    }
   ],
   "source": [
    "# here we are deriving the mean for all the possible 1,024 outcomes\n",
    "import itertools\n",
    "r_mean_list = []\n",
    "r_mean_above_ref = []\n",
    "counter=0\n",
    "for i in range(11):\n",
    "    for v in itertools.combinations(range(1,11),i):\n",
    "        s=[1 if j in v else -1 for j in range(1,11)]\n",
    "        r_mean = (df['d']*s).mean()\n",
    "        r_mean_list.append(r_mean)\n",
    "        if r_mean > 0.41:\n",
    "            r_mean_above_ref.append(s)       \n",
    "        counter +=1\n",
    "print('we derived all the possible {} outcomes'.format(counter)) \n",
    "print('there are {} combinations with mean above or equal to 0.41'.format(len(r_mean_above_ref)))\n",
    "print(r_mean_above_ref)\n",
    "plt.hist(r_mean_list,bins=20)\n",
    "plt.axvline(0.41, color='r', linestyle='dashed', linewidth=2)"
   ]
  },
  {
   "cell_type": "markdown",
   "metadata": {},
   "source": [
    "As we can see, there are 7 combinations out of 1,024 with means above or equal to 0.41. This includes the sample itself. \n",
    "\n",
    "Box separates the values striclty above 0.41 (3) from the ones equal to 0.41 (4, including the original sample) of which he takes only half of them (2). His level of significance therefore becomes 5/1024 = 0.5%, which is a statistically significant p value.\n",
    "\n",
    "We can say that material B is subject to more wear than material A."
   ]
  },
  {
   "cell_type": "markdown",
   "metadata": {},
   "source": [
    "## Random sampling assumption and the t distribution\n",
    "\n",
    "Now let's asssume that the sample we obtained with mean 0.41 is obtained from random sampling from a normal population of differences between the two normal populations of wear for material A and material B.\n",
    "\n",
    "This allows us to use the following property: if a random sample of n observations is drawn from a normal distribution with mean $\\eta$ and variance $\\sigma^2$, then the quantity $(\\bar{y} - \\eta)/(s/\\sqrt{n})$ is distributed with n - 1 degrees of freedom in the t distribution.\n",
    "\n",
    "Thus we consider the differences 0.8, 0.6, 0.3, etc. as a sample from normal population of differences and must compute the statistic $(\\bar{d} - \\delta)/(s_d/\\sqrt{n})$ which is distributed as t with n - 1 degrees of freedom.\n",
    "\n",
    "Two important notes:\n",
    "1. if we compare this approach with part 2 of the comparison of two means, there is a big difference. In the comparison of two means, we have an external reference distribution so the difference of averages is considered as one element of a population of difference of averages, NOT AS A SAMPLE. This allows for the use of the t distribution without the $\\sqrt{n}$ factor in the denominator because we are just comparing elements of the population, NOT ANY SAMPLE.\n",
    "\n",
    "|  | part 2 mean comparison | randomization paired |\n",
    "| --- | --- | --- |\n",
    "| **population** | difference of averages of 10 yields | difference of wear of two materials |\n",
    "| **statistic** | one difference of averages of 10 yields with t test; s measured based on reference population | sample of 10 differences of wear with t test; s measured based on sample; $\\sqrt{n}$ factor | \n",
    "\n",
    "2. if we compare this approach with part 3 and 4 of the comparison of two means, one difference is that we do not compute the pooled variance. My explanation for that is that \n",
    "  - we probably do not have enough samples for proper variance estimate (5 for each material A or B, vs. 10 yields in part 3 and 4 \n",
    "  - in part 3 and 4, we have one process with two treatments so it makes sense that they have the same variance $\\sigma^2$. This may not be the case for shoe material A and B which may have been manufactured differently, thus resulting in different variances\n",
    "  \n",
    "There will be cases where it makes more sense to consider the difference of averages as the difference of two random variables whose sample average has variance $\\sigma^2/n$ and compute pooled variance like we did in part 3 and 4 of the comparison of two means. There will be other cases (like this randomization example) where we stay at a higher level and just treat the difference of averages as a normal variable, without drilling down further. When to make that calls makes intuitive sense based on remarks above but is probably something to discuss with a real statistician.\n"
   ]
  },
  {
   "cell_type": "code",
   "execution_count": 28,
   "metadata": {},
   "outputs": [
    {
     "name": "stdout",
     "output_type": "stream",
     "text": [
      "sd is 0.150, t is 3.35, p value is 0.427%\n"
     ]
    }
   ],
   "source": [
    "# let's compute the t statistic\n",
    "y_bar = 0.41\n",
    "delta = 0 # null hypothesis\n",
    "sd = (1/9)*(sum((df['d'] - y_bar)**2))\n",
    "t = (y_bar - delta)/math.sqrt(sd/10)\n",
    "p_value = 1-st.t.cdf(t,df=9,loc=0,scale=1)\n",
    "print('sd is {:.03f}, t is {:.02f}, p value is {:.03f}%'.format(sd,t,100*p_value))"
   ]
  },
  {
   "cell_type": "markdown",
   "metadata": {},
   "source": [
    "The level of significance of 0.4% is very close to the level of 0.5% found in the randomization simulation.\n",
    "\n",
    "This confirms that the randomization approach allows us to use t test to test statistical significance.\n",
    "\n",
    "**Let's remember we can use t test to analyze randomized paired experiments.**"
   ]
  }
 ],
 "metadata": {
  "kernelspec": {
   "display_name": "Python 3",
   "language": "python",
   "name": "python3"
  },
  "language_info": {
   "codemirror_mode": {
    "name": "ipython",
    "version": 3
   },
   "file_extension": ".py",
   "mimetype": "text/x-python",
   "name": "python",
   "nbconvert_exporter": "python",
   "pygments_lexer": "ipython3",
   "version": "3.7.6"
  }
 },
 "nbformat": 4,
 "nbformat_minor": 4
}
