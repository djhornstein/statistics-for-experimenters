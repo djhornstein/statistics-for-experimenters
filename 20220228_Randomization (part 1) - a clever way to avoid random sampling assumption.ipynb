{
 "cells": [
  {
   "cell_type": "markdown",
   "metadata": {},
   "source": [
    "# Randomization (part 1): a clever way to avoid the random sampling assumption\n",
    "\n",
    "When comparing two means, we saw that the random sampling assumption allows us to compute the following statistics for two samples A and B of size $n_A$ and $n_B$: \n",
    "$$t = \\frac{(\\bar{y_B}-\\bar{y_A}) - (\\eta_B-\\eta_A)}{s\\sqrt{(1/n_A+1/n_B)}}$$\n",
    "\n",
    "Unfortunately, the random sampling assumption is often not true because it implies that the data samples are independent. In many real life situations, like on a production line, data is consistently influenced by other parameters (e.g. temperature, raw material, training of operators), that can vary within days, weeks or months. So the data collected during a specific week may be skewed one way while the data collected during another week might be skewed another way, thus violating the random sampling model.\n",
    "\n",
    "Increasing the sample size can circumvent this issue but it is usually too expensive, not practical, and sometimes not enough.\n",
    "\n",
    "Randomization provides an elegant tool in the statistician's toolkit to address this issue. It offers a way to compare means without needing random sampling assumption. In essence, it shifts the randomization from the data to the experimenter, which is much easier to control."
   ]
  },
  {
   "cell_type": "code",
   "execution_count": 17,
   "metadata": {},
   "outputs": [],
   "source": [
    "import pandas as pd\n",
    "import numpy as np\n",
    "import math\n",
    "import scipy.stats as st\n",
    "import matplotlib.pyplot as plt\n",
    "%config Completer.use_jedi = False\n",
    "pd.set_option('display.max_rows', 500)\n",
    "y_210 = pd.read_excel('yield 210.xlsx')\n",
    "y_AB = pd.read_excel('yield 20.xlsx')"
   ]
  },
  {
   "cell_type": "markdown",
   "metadata": {},
   "source": [
    "## The tomato plant experiment\n",
    "\n",
    "Goal is to discover whether change in fertilizer mixture applied to tomato plants would result in an improved yield. This is the same issue as before. We are still comparing two means:\n",
    "- 11 plants set out in a single row\n",
    "- 5 given the standard fertilizer A\n",
    "- 6 given supposedly improved fertilizer B\n",
    "- A's and B's randomly applied to the positions in the row to give the following design"
   ]
  },
  {
   "cell_type": "code",
   "execution_count": 18,
   "metadata": {},
   "outputs": [
    {
     "name": "stdout",
     "output_type": "stream",
     "text": [
      "y_Abar is: 20.84, y_Bbar is: 22.53, and difference is 1.69\n"
     ]
    },
    {
     "data": {
      "text/html": [
       "<div>\n",
       "<style scoped>\n",
       "    .dataframe tbody tr th:only-of-type {\n",
       "        vertical-align: middle;\n",
       "    }\n",
       "\n",
       "    .dataframe tbody tr th {\n",
       "        vertical-align: top;\n",
       "    }\n",
       "\n",
       "    .dataframe thead th {\n",
       "        text-align: right;\n",
       "    }\n",
       "</style>\n",
       "<table border=\"1\" class=\"dataframe\">\n",
       "  <thead>\n",
       "    <tr style=\"text-align: right;\">\n",
       "      <th></th>\n",
       "      <th>fertilizer</th>\n",
       "      <th>yield</th>\n",
       "    </tr>\n",
       "    <tr>\n",
       "      <th>position</th>\n",
       "      <th></th>\n",
       "      <th></th>\n",
       "    </tr>\n",
       "  </thead>\n",
       "  <tbody>\n",
       "    <tr>\n",
       "      <th>1</th>\n",
       "      <td>A</td>\n",
       "      <td>29.9</td>\n",
       "    </tr>\n",
       "    <tr>\n",
       "      <th>2</th>\n",
       "      <td>A</td>\n",
       "      <td>11.4</td>\n",
       "    </tr>\n",
       "    <tr>\n",
       "      <th>3</th>\n",
       "      <td>B</td>\n",
       "      <td>26.6</td>\n",
       "    </tr>\n",
       "    <tr>\n",
       "      <th>4</th>\n",
       "      <td>B</td>\n",
       "      <td>23.7</td>\n",
       "    </tr>\n",
       "    <tr>\n",
       "      <th>5</th>\n",
       "      <td>A</td>\n",
       "      <td>25.3</td>\n",
       "    </tr>\n",
       "    <tr>\n",
       "      <th>6</th>\n",
       "      <td>B</td>\n",
       "      <td>28.5</td>\n",
       "    </tr>\n",
       "    <tr>\n",
       "      <th>7</th>\n",
       "      <td>B</td>\n",
       "      <td>14.2</td>\n",
       "    </tr>\n",
       "    <tr>\n",
       "      <th>8</th>\n",
       "      <td>B</td>\n",
       "      <td>17.9</td>\n",
       "    </tr>\n",
       "    <tr>\n",
       "      <th>9</th>\n",
       "      <td>A</td>\n",
       "      <td>16.5</td>\n",
       "    </tr>\n",
       "    <tr>\n",
       "      <th>10</th>\n",
       "      <td>A</td>\n",
       "      <td>21.1</td>\n",
       "    </tr>\n",
       "    <tr>\n",
       "      <th>11</th>\n",
       "      <td>B</td>\n",
       "      <td>24.3</td>\n",
       "    </tr>\n",
       "  </tbody>\n",
       "</table>\n",
       "</div>"
      ],
      "text/plain": [
       "         fertilizer  yield\n",
       "position                  \n",
       "1                 A   29.9\n",
       "2                 A   11.4\n",
       "3                 B   26.6\n",
       "4                 B   23.7\n",
       "5                 A   25.3\n",
       "6                 B   28.5\n",
       "7                 B   14.2\n",
       "8                 B   17.9\n",
       "9                 A   16.5\n",
       "10                A   21.1\n",
       "11                B   24.3"
      ]
     },
     "execution_count": 18,
     "metadata": {},
     "output_type": "execute_result"
    }
   ],
   "source": [
    "df = pd.DataFrame({'fertilizer':list('AABBABBBAAB'),\n",
    "                  'yield':[29.9,11.4,26.6,23.7,25.3,28.5,14.2,17.9,16.5,21.1,24.3]},\n",
    "                  index=np.arange(1,12))\n",
    "df.index.name = 'position'\n",
    "y_Abar = df[df['fertilizer']=='A']['yield'].mean(axis=0)\n",
    "y_Bbar = df[df['fertilizer']=='B']['yield'].mean(axis=0)\n",
    "print('y_Abar is: {:.02f}, y_Bbar is: {:.02f}, and difference is {:.02f}'.format(y_Abar,y_Bbar,y_Bbar-y_Abar))\n",
    "df"
   ]
  },
  {
   "cell_type": "markdown",
   "metadata": {},
   "source": [
    "### Randomization"
   ]
  },
  {
   "cell_type": "markdown",
   "metadata": {},
   "source": [
    "To randomize the experiment, we assume that the label A or B have no influence on the yield of the plant, and can thus be moved around without affecting the yield. This is our null hypothesis.\n",
    "\n",
    "So we compute the difference of sample average between method A and B for each permutation of the labels. There are ${11 \\choose 5} = 11!/5!6! = 462$ permutations. Then we compare the original difference of sample mean 1.69 to all the 461 remaining differences of sample means to determine if 1.69 is an extreme value or not, using the traditional p value concept. If p value is below 5%, we conclude the null hypothesis is not true."
   ]
  },
  {
   "cell_type": "code",
   "execution_count": 19,
   "metadata": {},
   "outputs": [
    {
     "name": "stdout",
     "output_type": "stream",
     "text": [
      "there are 154 combinations, representing 33.33% of the 462 combinations, with mean higher than 1.69\n"
     ]
    },
    {
     "data": {
      "image/png": "[encoded data removed]",
      "text/plain": [
       "<Figure size 432x288 with 1 Axes>"
      ]
     },
     "metadata": {
      "needs_background": "light"
     },
     "output_type": "display_data"
    }
   ],
   "source": [
    "import itertools\n",
    "diff = []\n",
    "for v in itertools.combinations(df.index,5):\n",
    "    y_A = df.loc[list(v),'yield'].mean(axis=0)\n",
    "    y_B = df.loc[list(set(df.index)-set(v)),'yield'].mean(axis=0)\n",
    "    diff.append(y_B - y_A)\n",
    "pd.DataFrame(diff).hist(bins=50)\n",
    "sum(np.array(diff) > 1.69)\n",
    "print('there are {} combinations, representing {:.02f}% of the 462 combinations, with mean higher than 1.69'.format(sum(np.array(diff) > 1.69), 100*sum(np.array(diff) > 1.69)/462))"
   ]
  },
  {
   "cell_type": "markdown",
   "metadata": {},
   "source": [
    "### Traditional t test with random sampling assumption"
   ]
  },
  {
   "cell_type": "code",
   "execution_count": 20,
   "metadata": {},
   "outputs": [
    {
     "name": "stdout",
     "output_type": "stream",
     "text": [
      "assuming random sampling assumption and t statistic, sample pooled variance is 39.73, t is 0.44, p value is 0.33\n"
     ]
    }
   ],
   "source": [
    "# we need to compute the t statistic\n",
    "# first we need the pooled variance s\n",
    "s_sq = (1/9)*(sum((df[df['fertilizer']=='A']['yield'] - y_Abar)**2) + sum((df[df['fertilizer']=='B']['yield'] - y_Bbar)**2))\n",
    "t = ((y_Bbar - y_Abar) - 0)/math.sqrt(s_sq*(1/5+1/6))\n",
    "p_value = 1 - st.t.cdf(t,df=9,loc=0,scale=1)\n",
    "print('assuming random sampling assumption and t statistic, sample pooled variance is {:.02f}, t is {:.02f}, p value is {:0.2f}'\n",
    "      .format(s_sq,t,p_value))\n"
   ]
  },
  {
   "cell_type": "markdown",
   "metadata": {},
   "source": [
    "As we can see, the resulting p value for the randomization approach and t test approach are very similar.\n",
    "\n",
    "It can be shown that the randomization reference distribution can be reasonably approximated by the appropriately scaled t distribution. \n",
    "\n",
    "Thus, provided we randomize, we can employ t tests as appromixations of exact randomization and free ourselves from the constraining assumptions of 1) random sampling and 2) normality of the reference population"
   ]
  }
 ],
 "metadata": {
  "kernelspec": {
   "display_name": "Python 3",
   "language": "python",
   "name": "python3"
  },
  "language_info": {
   "codemirror_mode": {
    "name": "ipython",
    "version": 3
   },
   "file_extension": ".py",
   "mimetype": "text/x-python",
   "name": "python",
   "nbconvert_exporter": "python",
   "pygments_lexer": "ipython3",
   "version": "3.7.6"
  }
 },
 "nbformat": 4,
 "nbformat_minor": 4
}
