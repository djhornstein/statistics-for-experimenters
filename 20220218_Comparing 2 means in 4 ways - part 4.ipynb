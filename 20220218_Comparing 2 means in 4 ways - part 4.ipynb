{
 "cells": [
  {
   "cell_type": "markdown",
   "metadata": {},
   "source": [
    "## Method 4: reference distribution based on random sampling, internal estimate of  𝜎 \n",
    "Let's recall the case study. We have 10 data points for method A and 10 data points for method B.\n",
    "\n",
    "The means are different: 84.24 for method A vs. 85.54 for method B.\n",
    "\n",
    "The reference distribution has 210 data points with a mean of 84.12\n",
    "\n",
    "Question: are 84.24 and 85.54 statistically different based on the reference distribution?\n",
    "\n",
    "To answer with method 4, we continue using the assumption that each individual observation is as if obtained by random sampling from a normal population with common standard deviation.\n",
    "\n",
    "But this time, instead of deriving the standard deviation from the 210 reference data points, we derive it from the sample itself! In real life, we often do not have access to reference set and only have the samples so very important to be able to extract the maximum of information from the samples themselves."
   ]
  },
  {
   "cell_type": "markdown",
   "metadata": {},
   "source": [
    "We compute the same statistic as with method 3 but the difference is that instead of $\\sigma$, we will now use s which is the pooled estimate of the sample variance based on sample A and sample B. Therefore, the z statistic becomes a t statistic following t distribution.\n",
    "\n",
    "$$t = \\frac{(\\bar{y_B}-\\bar{y_A}) - (\\eta_B-\\eta_A)}{s\\sqrt{1/n_A+1/n_B}}$$\n",
    "\n",
    "Because the pooled variance has $n_A + n_B -2$ (=18) degrees of freedom, so has the t statistic as well."
   ]
  },
  {
   "cell_type": "code",
   "execution_count": 4,
   "metadata": {},
   "outputs": [],
   "source": [
    "import pandas as pd\n",
    "import numpy as np\n",
    "import math\n",
    "import scipy.stats as st\n",
    "import matplotlib.pyplot as plt\n",
    "%config Completer.use_jedi = False\n",
    "pd.set_option('display.max_rows', 500)\n",
    "y_210 = pd.read_excel('yield 210.xlsx')\n",
    "y_AB = pd.read_excel('yield 20.xlsx')"
   ]
  },
  {
   "cell_type": "code",
   "execution_count": 20,
   "metadata": {},
   "outputs": [
    {
     "name": "stdout",
     "output_type": "stream",
     "text": [
      "sqa: 8.42, sqb: 13.32, sq: 10.87\n",
      "t: 0.88, p value: 0.195\n"
     ]
    }
   ],
   "source": [
    "yBbar_m_yAbar = 1.30\n",
    "etaB_m_etaA = 0\n",
    "nA, nB = 10, 10\n",
    "sqa = (1/(nA-1))*((y_AB[y_AB['method'] == 'A']['yield']-y_AB[y_AB['method'] == 'A']['yield'].mean(axis=0))**2).sum()\n",
    "sqb = (1/(nB-1))*((y_AB[y_AB['method'] == 'B']['yield']-y_AB[y_AB['method'] == 'B']['yield'].mean(axis=0))**2).sum()\n",
    "sq = (1/(nA+nB-2))*(((y_AB[y_AB['method'] == 'A']['yield']-y_AB[y_AB['method'] == 'A']['yield'].mean(axis=0))**2).sum()+\n",
    "                 ((y_AB[y_AB['method'] == 'B']['yield']-y_AB[y_AB['method'] == 'B']['yield'].mean(axis=0))**2).sum())\n",
    "t = (yBbar_m_yAbar - etaB_m_etaA)/math.sqrt(sq*(1/nA+1/nB))\n",
    "p_value = 1-st.t.cdf(t,df=nA+nB-2,loc=0,scale=1)\n",
    "print('sqa: {:.02f}, sqb: {:.02f}, sq: {:.02f}'.format(sqa,sqb,sq))\n",
    "print('t: {:.02f}, p value: {:.03f}'.format(t,p_value))"
   ]
  },
  {
   "cell_type": "markdown",
   "metadata": {},
   "source": [
    "Once again, the p value is high and we cannot reject the null hypothesis, confirming the weakness of random sampling assumption coupled with variance estimated from the sample itself.\n",
    "\n",
    "Notice how the significance of 19.5% differs significantly from the much lower numbers obtained with method 1 (4.7%) and method 2 (2.8%) and even method 3 (15.7%). The more we add assumptions to compensate for the lack of external reference data, the weaker our statistic becomes to detect changes."
   ]
  }
 ],
 "metadata": {
  "kernelspec": {
   "display_name": "Python 3",
   "language": "python",
   "name": "python3"
  },
  "language_info": {
   "codemirror_mode": {
    "name": "ipython",
    "version": 3
   },
   "file_extension": ".py",
   "mimetype": "text/x-python",
   "name": "python",
   "nbconvert_exporter": "python",
   "pygments_lexer": "ipython3",
   "version": "3.7.6"
  }
 },
 "nbformat": 4,
 "nbformat_minor": 4
}
